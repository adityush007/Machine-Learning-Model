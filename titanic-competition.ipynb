{
 "cells": [
  {
   "cell_type": "code",
   "execution_count": 1,
   "id": "59f54d26",
   "metadata": {
    "_cell_guid": "b1076dfc-b9ad-4769-8c92-a6c4dae69d19",
    "_uuid": "8f2839f25d086af736a60e9eeb907d3b93b6e0e5",
    "execution": {
     "iopub.execute_input": "2022-11-03T16:20:38.377399Z",
     "iopub.status.busy": "2022-11-03T16:20:38.376403Z",
     "iopub.status.idle": "2022-11-03T16:20:38.392785Z",
     "shell.execute_reply": "2022-11-03T16:20:38.391603Z"
    },
    "papermill": {
     "duration": 0.030014,
     "end_time": "2022-11-03T16:20:38.395938",
     "exception": false,
     "start_time": "2022-11-03T16:20:38.365924",
     "status": "completed"
    },
    "tags": []
   },
   "outputs": [],
   "source": [
    "import numpy as np # linear algebra\n",
    "import pandas as pd # data processing, CSV file I/O (e.g. pd.read_csv)\n",
    "from matplotlib import pyplot as plt"
   ]
  },
  {
   "cell_type": "code",
   "execution_count": 3,
   "id": "cf62a7ee",
   "metadata": {
    "execution": {
     "iopub.execute_input": "2022-11-03T16:20:38.413375Z",
     "iopub.status.busy": "2022-11-03T16:20:38.412950Z",
     "iopub.status.idle": "2022-11-03T16:20:38.441989Z",
     "shell.execute_reply": "2022-11-03T16:20:38.440880Z"
    },
    "papermill": {
     "duration": 0.04112,
     "end_time": "2022-11-03T16:20:38.444760",
     "exception": false,
     "start_time": "2022-11-03T16:20:38.403640",
     "status": "completed"
    },
    "tags": []
   },
   "outputs": [],
   "source": [
    "titanic_train = pd.read_csv(\"F:\\Aditya\\Titanic/train.csv\")\n",
    "titanic_test = pd.read_csv(\"F:\\Aditya\\Titanic/test.csv\")"
   ]
  },
  {
   "cell_type": "code",
   "execution_count": 4,
   "id": "6a3184b7",
   "metadata": {
    "execution": {
     "iopub.execute_input": "2022-11-03T16:20:38.460892Z",
     "iopub.status.busy": "2022-11-03T16:20:38.460478Z",
     "iopub.status.idle": "2022-11-03T16:20:38.493916Z",
     "shell.execute_reply": "2022-11-03T16:20:38.492614Z"
    },
    "papermill": {
     "duration": 0.044445,
     "end_time": "2022-11-03T16:20:38.496421",
     "exception": false,
     "start_time": "2022-11-03T16:20:38.451976",
     "status": "completed"
    },
    "tags": []
   },
   "outputs": [
    {
     "data": {
      "text/plain": [
       "<bound method NDFrame.head of      PassengerId  Survived  Pclass  \\\n",
       "0              1         0       3   \n",
       "1              2         1       1   \n",
       "2              3         1       3   \n",
       "3              4         1       1   \n",
       "4              5         0       3   \n",
       "..           ...       ...     ...   \n",
       "886          887         0       2   \n",
       "887          888         1       1   \n",
       "888          889         0       3   \n",
       "889          890         1       1   \n",
       "890          891         0       3   \n",
       "\n",
       "                                                  Name     Sex   Age  SibSp  \\\n",
       "0                              Braund, Mr. Owen Harris    male  22.0      1   \n",
       "1    Cumings, Mrs. John Bradley (Florence Briggs Th...  female  38.0      1   \n",
       "2                               Heikkinen, Miss. Laina  female  26.0      0   \n",
       "3         Futrelle, Mrs. Jacques Heath (Lily May Peel)  female  35.0      1   \n",
       "4                             Allen, Mr. William Henry    male  35.0      0   \n",
       "..                                                 ...     ...   ...    ...   \n",
       "886                              Montvila, Rev. Juozas    male  27.0      0   \n",
       "887                       Graham, Miss. Margaret Edith  female  19.0      0   \n",
       "888           Johnston, Miss. Catherine Helen \"Carrie\"  female   NaN      1   \n",
       "889                              Behr, Mr. Karl Howell    male  26.0      0   \n",
       "890                                Dooley, Mr. Patrick    male  32.0      0   \n",
       "\n",
       "     Parch            Ticket     Fare Cabin Embarked  \n",
       "0        0         A/5 21171   7.2500   NaN        S  \n",
       "1        0          PC 17599  71.2833   C85        C  \n",
       "2        0  STON/O2. 3101282   7.9250   NaN        S  \n",
       "3        0            113803  53.1000  C123        S  \n",
       "4        0            373450   8.0500   NaN        S  \n",
       "..     ...               ...      ...   ...      ...  \n",
       "886      0            211536  13.0000   NaN        S  \n",
       "887      0            112053  30.0000   B42        S  \n",
       "888      2        W./C. 6607  23.4500   NaN        S  \n",
       "889      0            111369  30.0000  C148        C  \n",
       "890      0            370376   7.7500   NaN        Q  \n",
       "\n",
       "[891 rows x 12 columns]>"
      ]
     },
     "execution_count": 4,
     "metadata": {},
     "output_type": "execute_result"
    }
   ],
   "source": [
    "titanic_train.head"
   ]
  },
  {
   "cell_type": "code",
   "execution_count": 5,
   "id": "87a57a44",
   "metadata": {
    "execution": {
     "iopub.execute_input": "2022-11-03T16:20:38.513293Z",
     "iopub.status.busy": "2022-11-03T16:20:38.512100Z",
     "iopub.status.idle": "2022-11-03T16:20:38.519624Z",
     "shell.execute_reply": "2022-11-03T16:20:38.518455Z"
    },
    "papermill": {
     "duration": 0.018246,
     "end_time": "2022-11-03T16:20:38.521899",
     "exception": false,
     "start_time": "2022-11-03T16:20:38.503653",
     "status": "completed"
    },
    "tags": []
   },
   "outputs": [
    {
     "data": {
      "text/plain": [
       "(891, 12)"
      ]
     },
     "execution_count": 5,
     "metadata": {},
     "output_type": "execute_result"
    }
   ],
   "source": [
    "titanic_train.shape"
   ]
  },
  {
   "cell_type": "code",
   "execution_count": 6,
   "id": "c81e4ed5",
   "metadata": {
    "execution": {
     "iopub.execute_input": "2022-11-03T16:20:38.539016Z",
     "iopub.status.busy": "2022-11-03T16:20:38.538117Z",
     "iopub.status.idle": "2022-11-03T16:20:38.552882Z",
     "shell.execute_reply": "2022-11-03T16:20:38.551677Z"
    },
    "papermill": {
     "duration": 0.025947,
     "end_time": "2022-11-03T16:20:38.555328",
     "exception": false,
     "start_time": "2022-11-03T16:20:38.529381",
     "status": "completed"
    },
    "tags": []
   },
   "outputs": [
    {
     "data": {
      "text/plain": [
       "0    549\n",
       "1    342\n",
       "Name: Survived, dtype: int64"
      ]
     },
     "execution_count": 6,
     "metadata": {},
     "output_type": "execute_result"
    }
   ],
   "source": [
    "titanic_train['Survived'].value_counts()"
   ]
  },
  {
   "cell_type": "code",
   "execution_count": 7,
   "id": "78e88a50",
   "metadata": {
    "execution": {
     "iopub.execute_input": "2022-11-03T16:20:38.572115Z",
     "iopub.status.busy": "2022-11-03T16:20:38.571293Z",
     "iopub.status.idle": "2022-11-03T16:20:38.781484Z",
     "shell.execute_reply": "2022-11-03T16:20:38.780268Z"
    },
    "papermill": {
     "duration": 0.221601,
     "end_time": "2022-11-03T16:20:38.784385",
     "exception": false,
     "start_time": "2022-11-03T16:20:38.562784",
     "status": "completed"
    },
    "tags": []
   },
   "outputs": [
    {
     "data": {
      "image/png": "[encoded data removed]",
      "text/plain": [
       "<Figure size 360x360 with 1 Axes>"
      ]
     },
     "metadata": {
      "needs_background": "light"
     },
     "output_type": "display_data"
    }
   ],
   "source": [
    "plt.figure(figsize=(5,5))\n",
    "plt.bar(list(titanic_train['Survived'].value_counts().keys()), list(titanic_train['Survived'].value_counts()), color = 'r')\n",
    "plt.show()"
   ]
  },
  {
   "cell_type": "code",
   "execution_count": 8,
   "id": "da36a4a1",
   "metadata": {
    "execution": {
     "iopub.execute_input": "2022-11-03T16:20:38.804203Z",
     "iopub.status.busy": "2022-11-03T16:20:38.803363Z",
     "iopub.status.idle": "2022-11-03T16:20:38.810946Z",
     "shell.execute_reply": "2022-11-03T16:20:38.810139Z"
    },
    "papermill": {
     "duration": 0.018438,
     "end_time": "2022-11-03T16:20:38.813075",
     "exception": false,
     "start_time": "2022-11-03T16:20:38.794637",
     "status": "completed"
    },
    "tags": []
   },
   "outputs": [
    {
     "data": {
      "text/plain": [
       "3    491\n",
       "1    216\n",
       "2    184\n",
       "Name: Pclass, dtype: int64"
      ]
     },
     "execution_count": 8,
     "metadata": {},
     "output_type": "execute_result"
    }
   ],
   "source": [
    "titanic_train['Pclass'].value_counts()"
   ]
  },
  {
   "cell_type": "code",
   "execution_count": 9,
   "id": "668de0ce",
   "metadata": {
    "execution": {
     "iopub.execute_input": "2022-11-03T16:20:38.831197Z",
     "iopub.status.busy": "2022-11-03T16:20:38.830132Z",
     "iopub.status.idle": "2022-11-03T16:20:39.009051Z",
     "shell.execute_reply": "2022-11-03T16:20:39.007825Z"
    },
    "papermill": {
     "duration": 0.190839,
     "end_time": "2022-11-03T16:20:39.011753",
     "exception": false,
     "start_time": "2022-11-03T16:20:38.820914",
     "status": "completed"
    },
    "tags": []
   },
   "outputs": [
    {
     "data": {
      "image/png": "[encoded data removed]",
      "text/plain": [
       "<Figure size 360x360 with 1 Axes>"
      ]
     },
     "metadata": {
      "needs_background": "light"
     },
     "output_type": "display_data"
    }
   ],
   "source": [
    "plt.figure(figsize=(5,5))\n",
    "plt.bar(list(titanic_train['Pclass'].value_counts().keys()), list(titanic_train['Pclass'].value_counts()), color = ['r', 'g', 'b'])\n",
    "plt.show()"
   ]
  },
  {
   "cell_type": "code",
   "execution_count": 10,
   "id": "52bdbc4c",
   "metadata": {
    "execution": {
     "iopub.execute_input": "2022-11-03T16:20:39.029546Z",
     "iopub.status.busy": "2022-11-03T16:20:39.029134Z",
     "iopub.status.idle": "2022-11-03T16:20:39.039228Z",
     "shell.execute_reply": "2022-11-03T16:20:39.037981Z"
    },
    "papermill": {
     "duration": 0.021769,
     "end_time": "2022-11-03T16:20:39.041556",
     "exception": false,
     "start_time": "2022-11-03T16:20:39.019787",
     "status": "completed"
    },
    "tags": []
   },
   "outputs": [
    {
     "data": {
      "text/plain": [
       "male      577\n",
       "female    314\n",
       "Name: Sex, dtype: int64"
      ]
     },
     "execution_count": 10,
     "metadata": {},
     "output_type": "execute_result"
    }
   ],
   "source": [
    "titanic_train['Sex'].value_counts()"
   ]
  },
  {
   "cell_type": "code",
   "execution_count": 11,
   "id": "92bffa80",
   "metadata": {
    "execution": {
     "iopub.execute_input": "2022-11-03T16:20:39.059695Z",
     "iopub.status.busy": "2022-11-03T16:20:39.059265Z",
     "iopub.status.idle": "2022-11-03T16:20:39.206866Z",
     "shell.execute_reply": "2022-11-03T16:20:39.205431Z"
    },
    "papermill": {
     "duration": 0.160557,
     "end_time": "2022-11-03T16:20:39.210328",
     "exception": false,
     "start_time": "2022-11-03T16:20:39.049771",
     "status": "completed"
    },
    "tags": []
   },
   "outputs": [
    {
     "data": {
      "image/png": "[encoded data removed]",
      "text/plain": [
       "<Figure size 360x360 with 1 Axes>"
      ]
     },
     "metadata": {
      "needs_background": "light"
     },
     "output_type": "display_data"
    }
   ],
   "source": [
    "plt.figure(figsize=(5,5))\n",
    "plt.bar(list(titanic_train['Sex'].value_counts().keys()), list(titanic_train['Sex'].value_counts()), color = ['r', 'g'])\n",
    "plt.show()"
   ]
  },
  {
   "cell_type": "code",
   "execution_count": 12,
   "id": "29f8023c",
   "metadata": {
    "execution": {
     "iopub.execute_input": "2022-11-03T16:20:39.228636Z",
     "iopub.status.busy": "2022-11-03T16:20:39.228159Z",
     "iopub.status.idle": "2022-11-03T16:20:39.442076Z",
     "shell.execute_reply": "2022-11-03T16:20:39.440783Z"
    },
    "papermill": {
     "duration": 0.226273,
     "end_time": "2022-11-03T16:20:39.444994",
     "exception": false,
     "start_time": "2022-11-03T16:20:39.218721",
     "status": "completed"
    },
    "tags": []
   },
   "outputs": [
    {
     "data": {
      "image/png": "[encoded data removed]",
      "text/plain": [
       "<Figure size 360x504 with 1 Axes>"
      ]
     },
     "metadata": {
      "needs_background": "light"
     },
     "output_type": "display_data"
    }
   ],
   "source": [
    "plt.figure(figsize=(5,7))\n",
    "plt.hist(titanic_train['Age'])\n",
    "plt.title(\"Distribution of Age\")\n",
    "plt.xlabel(\"Age\")\n",
    "plt.show()"
   ]
  },
  {
   "cell_type": "code",
   "execution_count": 13,
   "id": "7c21d979",
   "metadata": {
    "execution": {
     "iopub.execute_input": "2022-11-03T16:20:39.463910Z",
     "iopub.status.busy": "2022-11-03T16:20:39.463490Z",
     "iopub.status.idle": "2022-11-03T16:20:39.473027Z",
     "shell.execute_reply": "2022-11-03T16:20:39.471843Z"
    },
    "papermill": {
     "duration": 0.021743,
     "end_time": "2022-11-03T16:20:39.475330",
     "exception": false,
     "start_time": "2022-11-03T16:20:39.453587",
     "status": "completed"
    },
    "tags": []
   },
   "outputs": [
    {
     "data": {
      "text/plain": [
       "0      False\n",
       "1      False\n",
       "2      False\n",
       "3      False\n",
       "4      False\n",
       "       ...  \n",
       "886    False\n",
       "887    False\n",
       "888    False\n",
       "889    False\n",
       "890    False\n",
       "Name: Survived, Length: 891, dtype: bool"
      ]
     },
     "execution_count": 13,
     "metadata": {},
     "output_type": "execute_result"
    }
   ],
   "source": [
    "titanic_train['Survived'].isnull()"
   ]
  },
  {
   "cell_type": "code",
   "execution_count": 14,
   "id": "24e30ca8",
   "metadata": {
    "execution": {
     "iopub.execute_input": "2022-11-03T16:20:39.494448Z",
     "iopub.status.busy": "2022-11-03T16:20:39.494032Z",
     "iopub.status.idle": "2022-11-03T16:20:39.502052Z",
     "shell.execute_reply": "2022-11-03T16:20:39.500938Z"
    },
    "papermill": {
     "duration": 0.020283,
     "end_time": "2022-11-03T16:20:39.504338",
     "exception": false,
     "start_time": "2022-11-03T16:20:39.484055",
     "status": "completed"
    },
    "tags": []
   },
   "outputs": [
    {
     "data": {
      "text/plain": [
       "0"
      ]
     },
     "execution_count": 14,
     "metadata": {},
     "output_type": "execute_result"
    }
   ],
   "source": [
    "sum(titanic_train['Survived'].isnull())"
   ]
  },
  {
   "cell_type": "code",
   "execution_count": 15,
   "id": "8b0ba673",
   "metadata": {
    "execution": {
     "iopub.execute_input": "2022-11-03T16:20:39.523777Z",
     "iopub.status.busy": "2022-11-03T16:20:39.523358Z",
     "iopub.status.idle": "2022-11-03T16:20:39.532558Z",
     "shell.execute_reply": "2022-11-03T16:20:39.531203Z"
    },
    "papermill": {
     "duration": 0.021694,
     "end_time": "2022-11-03T16:20:39.535047",
     "exception": false,
     "start_time": "2022-11-03T16:20:39.513353",
     "status": "completed"
    },
    "tags": []
   },
   "outputs": [
    {
     "data": {
      "text/plain": [
       "0      False\n",
       "1      False\n",
       "2      False\n",
       "3      False\n",
       "4      False\n",
       "       ...  \n",
       "886    False\n",
       "887    False\n",
       "888     True\n",
       "889    False\n",
       "890    False\n",
       "Name: Age, Length: 891, dtype: bool"
      ]
     },
     "execution_count": 15,
     "metadata": {},
     "output_type": "execute_result"
    }
   ],
   "source": [
    "titanic_train['Age'].isnull()"
   ]
  },
  {
   "cell_type": "code",
   "execution_count": 16,
   "id": "ea285236",
   "metadata": {
    "execution": {
     "iopub.execute_input": "2022-11-03T16:20:39.554936Z",
     "iopub.status.busy": "2022-11-03T16:20:39.553819Z",
     "iopub.status.idle": "2022-11-03T16:20:39.561882Z",
     "shell.execute_reply": "2022-11-03T16:20:39.560712Z"
    },
    "papermill": {
     "duration": 0.020563,
     "end_time": "2022-11-03T16:20:39.564467",
     "exception": false,
     "start_time": "2022-11-03T16:20:39.543904",
     "status": "completed"
    },
    "tags": []
   },
   "outputs": [
    {
     "data": {
      "text/plain": [
       "177"
      ]
     },
     "execution_count": 16,
     "metadata": {},
     "output_type": "execute_result"
    }
   ],
   "source": [
    "sum(titanic_train['Age'].isnull())"
   ]
  },
  {
   "cell_type": "code",
   "execution_count": 17,
   "id": "5bfe2f06",
   "metadata": {
    "execution": {
     "iopub.execute_input": "2022-11-03T16:20:39.583959Z",
     "iopub.status.busy": "2022-11-03T16:20:39.583551Z",
     "iopub.status.idle": "2022-11-03T16:20:39.593525Z",
     "shell.execute_reply": "2022-11-03T16:20:39.592346Z"
    },
    "papermill": {
     "duration": 0.02251,
     "end_time": "2022-11-03T16:20:39.595951",
     "exception": false,
     "start_time": "2022-11-03T16:20:39.573441",
     "status": "completed"
    },
    "tags": []
   },
   "outputs": [],
   "source": [
    "titanic_train = titanic_train.dropna()"
   ]
  },
  {
   "cell_type": "markdown",
   "id": "7614799a",
   "metadata": {
    "papermill": {
     "duration": 0.00848,
     "end_time": "2022-11-03T16:20:39.613385",
     "exception": false,
     "start_time": "2022-11-03T16:20:39.604905",
     "status": "completed"
    },
    "tags": []
   },
   "source": [
    "<center><b>Building Model<b></center>"
   ]
  },
  {
   "cell_type": "code",
   "execution_count": 18,
   "id": "d981f874",
   "metadata": {
    "execution": {
     "iopub.execute_input": "2022-11-03T16:20:39.633698Z",
     "iopub.status.busy": "2022-11-03T16:20:39.633298Z",
     "iopub.status.idle": "2022-11-03T16:20:39.641720Z",
     "shell.execute_reply": "2022-11-03T16:20:39.640508Z"
    },
    "papermill": {
     "duration": 0.022006,
     "end_time": "2022-11-03T16:20:39.644532",
     "exception": false,
     "start_time": "2022-11-03T16:20:39.622526",
     "status": "completed"
    },
    "tags": []
   },
   "outputs": [
    {
     "data": {
      "text/plain": [
       "0"
      ]
     },
     "execution_count": 18,
     "metadata": {},
     "output_type": "execute_result"
    }
   ],
   "source": [
    "sum(titanic_train['Survived'].isnull())"
   ]
  },
  {
   "cell_type": "code",
   "execution_count": 19,
   "id": "4099ca33",
   "metadata": {
    "execution": {
     "iopub.execute_input": "2022-11-03T16:20:39.670669Z",
     "iopub.status.busy": "2022-11-03T16:20:39.670288Z",
     "iopub.status.idle": "2022-11-03T16:20:39.680216Z",
     "shell.execute_reply": "2022-11-03T16:20:39.679102Z"
    },
    "papermill": {
     "duration": 0.025774,
     "end_time": "2022-11-03T16:20:39.682514",
     "exception": false,
     "start_time": "2022-11-03T16:20:39.656740",
     "status": "completed"
    },
    "tags": []
   },
   "outputs": [
    {
     "data": {
      "text/plain": [
       "0"
      ]
     },
     "execution_count": 19,
     "metadata": {},
     "output_type": "execute_result"
    }
   ],
   "source": [
    "sum(titanic_train['Age'].isnull())"
   ]
  },
  {
   "cell_type": "code",
   "execution_count": 20,
   "id": "d6e4629f",
   "metadata": {
    "execution": {
     "iopub.execute_input": "2022-11-03T16:20:39.708558Z",
     "iopub.status.busy": "2022-11-03T16:20:39.708181Z",
     "iopub.status.idle": "2022-11-03T16:20:41.023560Z",
     "shell.execute_reply": "2022-11-03T16:20:41.022406Z"
    },
    "papermill": {
     "duration": 1.333375,
     "end_time": "2022-11-03T16:20:41.026615",
     "exception": false,
     "start_time": "2022-11-03T16:20:39.693240",
     "status": "completed"
    },
    "tags": []
   },
   "outputs": [],
   "source": [
    "from sklearn.tree import DecisionTreeClassifier"
   ]
  },
  {
   "cell_type": "code",
   "execution_count": 21,
   "id": "67e14554",
   "metadata": {
    "execution": {
     "iopub.execute_input": "2022-11-03T16:20:41.047056Z",
     "iopub.status.busy": "2022-11-03T16:20:41.046645Z",
     "iopub.status.idle": "2022-11-03T16:20:41.051423Z",
     "shell.execute_reply": "2022-11-03T16:20:41.050455Z"
    },
    "papermill": {
     "duration": 0.017627,
     "end_time": "2022-11-03T16:20:41.053680",
     "exception": false,
     "start_time": "2022-11-03T16:20:41.036053",
     "status": "completed"
    },
    "tags": []
   },
   "outputs": [],
   "source": [
    "dtc = DecisionTreeClassifier()"
   ]
  },
  {
   "cell_type": "code",
   "execution_count": 22,
   "id": "7f8a6efa",
   "metadata": {
    "execution": {
     "iopub.execute_input": "2022-11-03T16:20:41.074035Z",
     "iopub.status.busy": "2022-11-03T16:20:41.073415Z",
     "iopub.status.idle": "2022-11-03T16:20:41.079190Z",
     "shell.execute_reply": "2022-11-03T16:20:41.078357Z"
    },
    "papermill": {
     "duration": 0.018574,
     "end_time": "2022-11-03T16:20:41.081451",
     "exception": false,
     "start_time": "2022-11-03T16:20:41.062877",
     "status": "completed"
    },
    "tags": []
   },
   "outputs": [],
   "source": [
    "x_train = titanic_train[['Age']]\n",
    "y_train = titanic_train[['Survived']]"
   ]
  },
  {
   "cell_type": "code",
   "execution_count": 23,
   "id": "8a97673b",
   "metadata": {
    "execution": {
     "iopub.execute_input": "2022-11-03T16:20:41.102065Z",
     "iopub.status.busy": "2022-11-03T16:20:41.101455Z",
     "iopub.status.idle": "2022-11-03T16:20:41.113063Z",
     "shell.execute_reply": "2022-11-03T16:20:41.112131Z"
    },
    "papermill": {
     "duration": 0.024423,
     "end_time": "2022-11-03T16:20:41.115356",
     "exception": false,
     "start_time": "2022-11-03T16:20:41.090933",
     "status": "completed"
    },
    "tags": []
   },
   "outputs": [
    {
     "data": {
      "text/html": [
       "<style>#sk-container-id-1 {color: black;background-color: white;}#sk-container-id-1 pre{padding: 0;}#sk-container-id-1 div.sk-toggleable {background-color: white;}#sk-container-id-1 label.sk-toggleable__label {cursor: pointer;display: block;width: 100%;margin-bottom: 0;padding: 0.3em;box-sizing: border-box;text-align: center;}#sk-container-id-1 label.sk-toggleable__label-arrow:before {content: \"▸\";float: left;margin-right: 0.25em;color: #696969;}#sk-container-id-1 label.sk-toggleable__label-arrow:hover:before {color: black;}#sk-container-id-1 div.sk-estimator:hover label.sk-toggleable__label-arrow:before {color: black;}#sk-container-id-1 div.sk-toggleable__content {max-height: 0;max-width: 0;overflow: hidden;text-align: left;background-color: #f0f8ff;}#sk-container-id-1 div.sk-toggleable__content pre {margin: 0.2em;color: black;border-radius: 0.25em;background-color: #f0f8ff;}#sk-container-id-1 input.sk-toggleable__control:checked~div.sk-toggleable__content {max-height: 200px;max-width: 100%;overflow: auto;}#sk-container-id-1 input.sk-toggleable__control:checked~label.sk-toggleable__label-arrow:before {content: \"▾\";}#sk-container-id-1 div.sk-estimator input.sk-toggleable__control:checked~label.sk-toggleable__label {background-color: #d4ebff;}#sk-container-id-1 div.sk-label input.sk-toggleable__control:checked~label.sk-toggleable__label {background-color: #d4ebff;}#sk-container-id-1 input.sk-hidden--visually {border: 0;clip: rect(1px 1px 1px 1px);clip: rect(1px, 1px, 1px, 1px);height: 1px;margin: -1px;overflow: hidden;padding: 0;position: absolute;width: 1px;}#sk-container-id-1 div.sk-estimator {font-family: monospace;background-color: #f0f8ff;border: 1px dotted black;border-radius: 0.25em;box-sizing: border-box;margin-bottom: 0.5em;}#sk-container-id-1 div.sk-estimator:hover {background-color: #d4ebff;}#sk-container-id-1 div.sk-parallel-item::after {content: \"\";width: 100%;border-bottom: 1px solid gray;flex-grow: 1;}#sk-container-id-1 div.sk-label:hover label.sk-toggleable__label {background-color: #d4ebff;}#sk-container-id-1 div.sk-serial::before {content: \"\";position: absolute;border-left: 1px solid gray;box-sizing: border-box;top: 0;bottom: 0;left: 50%;z-index: 0;}#sk-container-id-1 div.sk-serial {display: flex;flex-direction: column;align-items: center;background-color: white;padding-right: 0.2em;padding-left: 0.2em;position: relative;}#sk-container-id-1 div.sk-item {position: relative;z-index: 1;}#sk-container-id-1 div.sk-parallel {display: flex;align-items: stretch;justify-content: center;background-color: white;position: relative;}#sk-container-id-1 div.sk-item::before, #sk-container-id-1 div.sk-parallel-item::before {content: \"\";position: absolute;border-left: 1px solid gray;box-sizing: border-box;top: 0;bottom: 0;left: 50%;z-index: -1;}#sk-container-id-1 div.sk-parallel-item {display: flex;flex-direction: column;z-index: 1;position: relative;background-color: white;}#sk-container-id-1 div.sk-parallel-item:first-child::after {align-self: flex-end;width: 50%;}#sk-container-id-1 div.sk-parallel-item:last-child::after {align-self: flex-start;width: 50%;}#sk-container-id-1 div.sk-parallel-item:only-child::after {width: 0;}#sk-container-id-1 div.sk-dashed-wrapped {border: 1px dashed gray;margin: 0 0.4em 0.5em 0.4em;box-sizing: border-box;padding-bottom: 0.4em;background-color: white;}#sk-container-id-1 div.sk-label label {font-family: monospace;font-weight: bold;display: inline-block;line-height: 1.2em;}#sk-container-id-1 div.sk-label-container {text-align: center;}#sk-container-id-1 div.sk-container {/* jupyter's `normalize.less` sets `[hidden] { display: none; }` but bootstrap.min.css set `[hidden] { display: none !important; }` so we also need the `!important` here to be able to override the default hidden behavior on the sphinx rendered scikit-learn.org. See: https://github.com/scikit-learn/scikit-learn/issues/21755 */display: inline-block !important;position: relative;}#sk-container-id-1 div.sk-text-repr-fallback {display: none;}</style><div id=\"sk-container-id-1\" class=\"sk-top-container\"><div class=\"sk-text-repr-fallback\"><pre>DecisionTreeClassifier()</pre><b>In a Jupyter environment, please rerun this cell to show the HTML representation or trust the notebook. <br />On GitHub, the HTML representation is unable to render, please try loading this page with nbviewer.org.</b></div><div class=\"sk-container\" hidden><div class=\"sk-item\"><div class=\"sk-estimator sk-toggleable\"><input class=\"sk-toggleable__control sk-hidden--visually\" id=\"sk-estimator-id-1\" type=\"checkbox\" checked><label for=\"sk-estimator-id-1\" class=\"sk-toggleable__label sk-toggleable__label-arrow\">DecisionTreeClassifier</label><div class=\"sk-toggleable__content\"><pre>DecisionTreeClassifier()</pre></div></div></div></div></div>"
      ],
      "text/plain": [
       "DecisionTreeClassifier()"
      ]
     },
     "execution_count": 23,
     "metadata": {},
     "output_type": "execute_result"
    }
   ],
   "source": [
    "dtc.fit(x_train, y_train)"
   ]
  },
  {
   "cell_type": "markdown",
   "id": "f988dbf4",
   "metadata": {
    "papermill": {
     "duration": 0.009002,
     "end_time": "2022-11-03T16:20:41.133748",
     "exception": false,
     "start_time": "2022-11-03T16:20:41.124746",
     "status": "completed"
    },
    "tags": []
   },
   "source": [
    "*Predicting Values*"
   ]
  },
  {
   "cell_type": "code",
   "execution_count": 24,
   "id": "1eda3a77",
   "metadata": {
    "execution": {
     "iopub.execute_input": "2022-11-03T16:20:41.154548Z",
     "iopub.status.busy": "2022-11-03T16:20:41.153632Z",
     "iopub.status.idle": "2022-11-03T16:20:41.161710Z",
     "shell.execute_reply": "2022-11-03T16:20:41.160343Z"
    },
    "papermill": {
     "duration": 0.021281,
     "end_time": "2022-11-03T16:20:41.164318",
     "exception": false,
     "start_time": "2022-11-03T16:20:41.143037",
     "status": "completed"
    },
    "tags": []
   },
   "outputs": [],
   "source": [
    "titanic_test=titanic_test.dropna()"
   ]
  },
  {
   "cell_type": "code",
   "execution_count": 25,
   "id": "cfd20ce5",
   "metadata": {
    "execution": {
     "iopub.execute_input": "2022-11-03T16:20:41.184726Z",
     "iopub.status.busy": "2022-11-03T16:20:41.184310Z",
     "iopub.status.idle": "2022-11-03T16:20:41.191153Z",
     "shell.execute_reply": "2022-11-03T16:20:41.189928Z"
    },
    "papermill": {
     "duration": 0.019973,
     "end_time": "2022-11-03T16:20:41.193685",
     "exception": false,
     "start_time": "2022-11-03T16:20:41.173712",
     "status": "completed"
    },
    "tags": []
   },
   "outputs": [],
   "source": [
    "x_test = titanic_test[['Age']]"
   ]
  },
  {
   "cell_type": "code",
   "execution_count": 26,
   "id": "cd85a9b9",
   "metadata": {
    "execution": {
     "iopub.execute_input": "2022-11-03T16:20:41.215405Z",
     "iopub.status.busy": "2022-11-03T16:20:41.214662Z",
     "iopub.status.idle": "2022-11-03T16:20:41.222080Z",
     "shell.execute_reply": "2022-11-03T16:20:41.220949Z"
    },
    "papermill": {
     "duration": 0.020848,
     "end_time": "2022-11-03T16:20:41.224512",
     "exception": false,
     "start_time": "2022-11-03T16:20:41.203664",
     "status": "completed"
    },
    "tags": []
   },
   "outputs": [],
   "source": [
    "y_pred = dtc.predict(x_test)"
   ]
  },
  {
   "cell_type": "code",
   "execution_count": 27,
   "id": "f4ea001c",
   "metadata": {
    "execution": {
     "iopub.execute_input": "2022-11-03T16:20:41.244759Z",
     "iopub.status.busy": "2022-11-03T16:20:41.244369Z",
     "iopub.status.idle": "2022-11-03T16:20:41.252534Z",
     "shell.execute_reply": "2022-11-03T16:20:41.251375Z"
    },
    "papermill": {
     "duration": 0.020981,
     "end_time": "2022-11-03T16:20:41.254893",
     "exception": false,
     "start_time": "2022-11-03T16:20:41.233912",
     "status": "completed"
    },
    "tags": []
   },
   "outputs": [
    {
     "data": {
      "text/plain": [
       "array([1, 0, 1, 1, 1, 1, 0, 0, 1, 1, 1, 0, 1, 1, 1, 1, 1, 1, 1, 0, 0, 1,\n",
       "       1, 1, 1, 1, 1, 1, 1, 1, 1, 0, 1, 0, 1, 1, 0, 1, 0, 0, 1, 1, 1, 0,\n",
       "       1, 1, 0, 1, 1, 0, 1, 0, 1, 1, 0, 1, 1, 1, 0, 1, 0, 0, 0, 0, 1, 1,\n",
       "       1, 1, 1, 0, 0, 1, 0, 1, 1, 0, 0, 1, 1, 1, 1, 1, 1, 0, 0, 0, 1],\n",
       "      dtype=int64)"
      ]
     },
     "execution_count": 27,
     "metadata": {},
     "output_type": "execute_result"
    }
   ],
   "source": [
    "y_pred"
   ]
  }
 ],
 "metadata": {
  "kernelspec": {
   "display_name": "Python 3.10.0 64-bit",
   "language": "python",
   "name": "python3"
  },
  "language_info": {
   "codemirror_mode": {
    "name": "ipython",
    "version": 3
   },
   "file_extension": ".py",
   "mimetype": "text/x-python",
   "name": "python",
   "nbconvert_exporter": "python",
   "pygments_lexer": "ipython3",
   "version": "3.10.0"
  },
  "papermill": {
   "default_parameters": {},
   "duration": 12.31213,
   "end_time": "2022-11-03T16:20:41.986955",
   "environment_variables": {},
   "exception": null,
   "input_path": "__notebook__.ipynb",
   "output_path": "__notebook__.ipynb",
   "parameters": {},
   "start_time": "2022-11-03T16:20:29.674825",
   "version": "2.3.4"
  },
  "vscode": {
   "interpreter": {
    "hash": "213524bb45a1aeaf737b1d8c77d7b8db5d425938d9dffc5f4bc6fe6dd3324700"
   }
  }
 },
 "nbformat": 4,
 "nbformat_minor": 5
}
